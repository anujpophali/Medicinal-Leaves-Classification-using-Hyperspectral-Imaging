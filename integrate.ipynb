{
 "cells": [
  {
   "cell_type": "code",
   "execution_count": 1,
   "id": "c1b9108e",
   "metadata": {},
   "outputs": [],
   "source": [
    "accuracies = []"
   ]
  },
  {
   "cell_type": "code",
   "execution_count": 2,
   "id": "79e4dd2f",
   "metadata": {},
   "outputs": [
    {
     "name": "stdout",
     "output_type": "stream",
     "text": [
      "[0.9976019184652278]\n"
     ]
    }
   ],
   "source": [
    "# Importing the necessary libraries \n",
    "import numpy as np\n",
    "import pandas as pd\n",
    "from sklearn.model_selection import train_test_split\n",
    "from sklearn.svm import SVC\n",
    "from sklearn.metrics import confusion_matrix, accuracy_score \n",
    "from sklearn.preprocessing import LabelEncoder\n",
    "import pickle \n",
    "\n",
    "\n",
    "# Importing the dataset from the sklearn library into a local variable called dataset\n",
    "df = pd.read_excel(\"train.xlsx\")\n",
    "\n",
    "# Extract the hyperspectral data (excluding the last column) and labels (last column)\n",
    "hyperspectral_data = df.iloc[:, :-1].values\n",
    "labels = df.iloc[:, -1].values\n",
    "\n",
    "label_encoder = LabelEncoder()\n",
    "encoded_labels = label_encoder.fit_transform(labels)\n",
    "\n",
    "X = hyperspectral_data\n",
    "Y = encoded_labels\n",
    "\n",
    "# Splitting the data test into train 70% and test 30%.\n",
    "# x_train, y_train are training data and labels respectively \n",
    "# x_test, y_test are testing data and labels respectively \n",
    "x_train, x_test, y_train, y_test = train_test_split(X, Y, test_size=0.30, random_state=4)\n",
    "\n",
    "# Making the SVM Classifer\n",
    "Classifier = SVC(kernel=\"linear\")\n",
    "\n",
    "# Training the model on the training data and labels\n",
    "Classifier.fit(x_train, y_train)\n",
    "\n",
    "# Using the model to predict the labels of the test data\n",
    "y_pred = Classifier.predict(x_test)\n",
    "\n",
    "# Evaluating the accuracy of the model using the sklearn functions\n",
    "accuracy = accuracy_score(y_test,y_pred)\n",
    "accuracies.append(accuracy)\n",
    "print(accuracies)"
   ]
  },
  {
   "cell_type": "code",
   "execution_count": 3,
   "id": "58f4e0e3",
   "metadata": {},
   "outputs": [
    {
     "name": "stdout",
     "output_type": "stream",
     "text": [
      "[0.9976019184652278, 0.7002398081534772]\n"
     ]
    }
   ],
   "source": [
    "# Importing the necessary libraries \n",
    "import numpy as np\n",
    "import pandas as pd\n",
    "from sklearn.model_selection import train_test_split\n",
    "from sklearn.metrics import confusion_matrix  \n",
    "from sklearn.ensemble import RandomForestClassifier  \n",
    "from sklearn.metrics import confusion_matrix, accuracy_score \n",
    "from sklearn.preprocessing import LabelEncoder, StandardScaler \n",
    "import pickle \n",
    "\n",
    "# Importing the dataset from the sklearn library into a local variable called dataset\n",
    "df = pd.read_excel(\"train.xlsx\")\n",
    "\n",
    "# Extract the hyperspectral data (excluding the last column) and labels (last column)\n",
    "hyperspectral_data = df.iloc[:, :-1].values\n",
    "labels = df.iloc[:, -1].values\n",
    "\n",
    "label_encoder = LabelEncoder()\n",
    "encoded_labels = label_encoder.fit_transform(labels)\n",
    "\n",
    "X = hyperspectral_data\n",
    "Y = encoded_labels\n",
    "\n",
    "# Splitting the data test into train 70% and test 30%.\n",
    "# x_train, y_train are training data and labels respectively \n",
    "# x_test, y_test are testing data and labels respectively \n",
    "x_train, x_test, y_train, y_test = train_test_split(X, Y, test_size=0.30)\n",
    "\n",
    "st_x = StandardScaler()    \n",
    "x_train = st_x.fit_transform(x_train)    \n",
    "x_test = st_x.transform(x_test)  \n",
    "\n",
    "classifier = RandomForestClassifier(n_estimators = 10, criterion=\"entropy\")  \n",
    "classifier.fit(x_train, y_train)  \n",
    "\n",
    "#Predicting the test set result  \n",
    "y_pred = classifier.predict(x_test)   \n",
    "\n",
    "# Evaluating the accuracy of the model using the sklearn functions\n",
    "accuracy = accuracy_score(y_test,y_pred)\n",
    "accuracies.append(accuracy)\n",
    "print(accuracies)"
   ]
  },
  {
   "cell_type": "code",
   "execution_count": 4,
   "id": "885a43c8",
   "metadata": {},
   "outputs": [
    {
     "name": "stdout",
     "output_type": "stream",
     "text": [
      "[0.9976019184652278, 0.7002398081534772, 0.8705035971223022]\n"
     ]
    }
   ],
   "source": [
    "# Importing the necessary libraries \n",
    "import numpy as np\n",
    "import pandas as pd\n",
    "from sklearn.model_selection import train_test_split\n",
    "from sklearn.linear_model import LogisticRegression \n",
    "from sklearn.metrics import confusion_matrix, accuracy_score \n",
    "from sklearn.preprocessing import LabelEncoder, StandardScaler\n",
    "import pickle \n",
    "\n",
    "\n",
    "# Importing the dataset from the sklearn library into a local variable called dataset\n",
    "df = pd.read_excel(\"train.xlsx\")\n",
    "\n",
    "# Extract the hyperspectral data (excluding the last column) and labels (last column)\n",
    "hyperspectral_data = df.iloc[:, :-1].values\n",
    "labels = df.iloc[:, -1].values\n",
    "\n",
    "label_encoder = LabelEncoder()\n",
    "encoded_labels = label_encoder.fit_transform(labels)\n",
    "\n",
    "X = hyperspectral_data\n",
    "Y = encoded_labels\n",
    "\n",
    "scaler = StandardScaler()\n",
    "X_scaled = scaler.fit_transform(X)\n",
    "\n",
    "# Splitting the data test into train 70% and test 30%.\n",
    "# x_train, y_train are training data and labels respectively \n",
    "# x_test, y_test are testing data and labels respectively \n",
    "x_train, x_test, y_train, y_test = train_test_split(X_scaled, Y, test_size=0.30, random_state=4)\n",
    "\n",
    "# Making the logistic regression model\n",
    "logistic_model = LogisticRegression(max_iter = 1000)\n",
    "\n",
    "# Training the model on the training data and labels\n",
    "logistic_model.fit(x_train, y_train)\n",
    "\n",
    "# Using the model to predict the labels of the test data\n",
    "y_pred = logistic_model.predict(x_test)\n",
    "\n",
    "# Evaluating the accuracy of the model using the sklearn functions\n",
    "accuracy = accuracy_score(y_test,y_pred)\n",
    "accuracies.append(accuracy)\n",
    "print(accuracies)"
   ]
  },
  {
   "cell_type": "code",
   "execution_count": 5,
   "id": "40bd027f",
   "metadata": {},
   "outputs": [
    {
     "data": {
      "image/png": "[encoded data removed]",
      "text/plain": [
       "<Figure size 640x480 with 1 Axes>"
      ]
     },
     "metadata": {},
     "output_type": "display_data"
    }
   ],
   "source": [
    "import matplotlib.pyplot as plt\n",
    "classifiers = ['SVM', 'Random Forest', 'Logistic Regression']\n",
    "plt.bar(classifiers, accuracies)\n",
    "plt.xlabel('Classifiers')\n",
    "plt.ylabel('Accuracy')\n",
    "plt.title('Accuracy Comparison of Classifiers')\n",
    "plt.show()"
   ]
  },
  {
   "cell_type": "code",
   "execution_count": null,
   "id": "8d98d308",
   "metadata": {},
   "outputs": [],
   "source": []
  }
 ],
 "metadata": {
  "kernelspec": {
   "display_name": "Python 3 (ipykernel)",
   "language": "python",
   "name": "python3"
  },
  "language_info": {
   "codemirror_mode": {
    "name": "ipython",
    "version": 3
   },
   "file_extension": ".py",
   "mimetype": "text/x-python",
   "name": "python",
   "nbconvert_exporter": "python",
   "pygments_lexer": "ipython3",
   "version": "3.10.9"
  }
 },
 "nbformat": 4,
 "nbformat_minor": 5
}
